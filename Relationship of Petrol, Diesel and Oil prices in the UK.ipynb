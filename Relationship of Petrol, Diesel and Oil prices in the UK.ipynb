{
 "cells": [
  {
   "cell_type": "markdown",
   "id": "50a12b5d",
   "metadata": {},
   "source": [
    "Import necessary packages"
   ]
  },
  {
   "cell_type": "code",
   "execution_count": 99,
   "id": "2afa9a8e",
   "metadata": {},
   "outputs": [],
   "source": [
    "import pandas as pd\n",
    "import numpy as np\n",
    "import matplotlib.pyplot as plt"
   ]
  },
  {
   "cell_type": "markdown",
   "id": "58b64af2",
   "metadata": {},
   "source": [
    "# Getting to know the Data"
   ]
  },
  {
   "cell_type": "markdown",
   "id": "8c55f6ba",
   "metadata": {},
   "source": [
    "Import necessary Data Sets"
   ]
  },
  {
   "cell_type": "code",
   "execution_count": 100,
   "id": "8ac7fa18",
   "metadata": {},
   "outputs": [],
   "source": [
    "petrol = pd.read_csv('cleaned_datasets/petrol_oilbarrel_prices.csv')\n",
    "diesel = pd.read_csv('cleaned_datasets/diesel_oilbarrel_prices.csv')\n",
    "oil_price = pd.read_csv('cleaned_datasets/oil_price.csv')"
   ]
  },
  {
   "cell_type": "markdown",
   "id": "38c7e34d",
   "metadata": {},
   "source": [
    "Check the datasets are suitable and cleaned"
   ]
  },
  {
   "cell_type": "code",
   "execution_count": 101,
   "id": "fd18f5bf",
   "metadata": {},
   "outputs": [
    {
     "name": "stdout",
     "output_type": "stream",
     "text": [
      "         Date  Barrel_oil_£  Petrol(pence/litre)  Petrol Dutyrate  petrol vat\n",
      "0  2022-06-27     89.049618               190.93            52.95        20.0\n",
      "1  2022-06-20     87.742586               186.85            52.95        20.0\n",
      "2  2022-06-13     89.609124               182.53            52.95        20.0\n",
      "3  2022-06-06     97.959906               174.99            52.95        20.0\n",
      "4  2022-05-30     95.155435               170.36            52.95        20.0\n",
      "<class 'pandas.core.frame.DataFrame'>\n",
      "RangeIndex: 989 entries, 0 to 988\n",
      "Data columns (total 5 columns):\n",
      " #   Column               Non-Null Count  Dtype  \n",
      "---  ------               --------------  -----  \n",
      " 0   Date                 989 non-null    object \n",
      " 1   Barrel_oil_£         989 non-null    float64\n",
      " 2   Petrol(pence/litre)  989 non-null    float64\n",
      " 3   Petrol Dutyrate      989 non-null    float64\n",
      " 4   petrol vat           989 non-null    float64\n",
      "dtypes: float64(4), object(1)\n",
      "memory usage: 38.8+ KB\n",
      "None\n"
     ]
    }
   ],
   "source": [
    "print(petrol.head())\n",
    "print(petrol.info())"
   ]
  },
  {
   "cell_type": "code",
   "execution_count": 102,
   "id": "53bcdb7d",
   "metadata": {},
   "outputs": [
    {
     "name": "stdout",
     "output_type": "stream",
     "text": [
      "         Date  Barrel_oil_£  Diesel(pence/litre)  Diesel dutyrate  diesel vat\n",
      "0  2022-06-27     89.049618               198.93            52.95        20.0\n",
      "1  2022-06-20     87.742586               194.87            52.95        20.0\n",
      "2  2022-06-13     89.609124               190.43            52.95        20.0\n",
      "3  2022-06-06     97.959906               184.94            52.95        20.0\n",
      "4  2022-05-30     95.155435               182.25            52.95        20.0\n",
      "<class 'pandas.core.frame.DataFrame'>\n",
      "RangeIndex: 989 entries, 0 to 988\n",
      "Data columns (total 5 columns):\n",
      " #   Column               Non-Null Count  Dtype  \n",
      "---  ------               --------------  -----  \n",
      " 0   Date                 989 non-null    object \n",
      " 1   Barrel_oil_£         989 non-null    float64\n",
      " 2   Diesel(pence/litre)  989 non-null    float64\n",
      " 3   Diesel dutyrate      989 non-null    float64\n",
      " 4   diesel vat           989 non-null    float64\n",
      "dtypes: float64(4), object(1)\n",
      "memory usage: 38.8+ KB\n",
      "None\n"
     ]
    }
   ],
   "source": [
    "print(diesel.head())\n",
    "print(diesel.info())"
   ]
  },
  {
   "cell_type": "markdown",
   "id": "911c9dc1",
   "metadata": {},
   "source": [
    "We need to convert the date column to an actual datetime format, pandas makes this easy"
   ]
  },
  {
   "cell_type": "code",
   "execution_count": 103,
   "id": "6a666a18",
   "metadata": {},
   "outputs": [
    {
     "name": "stdout",
     "output_type": "stream",
     "text": [
      "<class 'pandas.core.frame.DataFrame'>\n",
      "RangeIndex: 1069 entries, 0 to 1068\n",
      "Data columns (total 2 columns):\n",
      " #   Column        Non-Null Count  Dtype  \n",
      "---  ------        --------------  -----  \n",
      " 0   Date          1069 non-null   object \n",
      " 1   Barrel_oil_£  1069 non-null   float64\n",
      "dtypes: float64(1), object(1)\n",
      "memory usage: 16.8+ KB\n",
      "None\n",
      "         Date  Barrel_oil_£\n",
      "0  2022-06-27     89.049618\n",
      "1  2022-06-20     87.742586\n",
      "2  2022-06-13     89.609124\n",
      "3  2022-06-06     97.959906\n",
      "4  2022-05-30     95.155435\n"
     ]
    }
   ],
   "source": [
    "print(oil_price.info())\n",
    "print(oil_price.head())"
   ]
  },
  {
   "cell_type": "code",
   "execution_count": 104,
   "id": "7bf22c4e",
   "metadata": {},
   "outputs": [],
   "source": [
    "petrol['Date'] = pd.to_datetime(petrol['Date'], dayfirst=False)\n",
    "diesel['Date'] = pd.to_datetime(diesel['Date'], dayfirst=False)\n",
    "oil_price['Date'] = pd.to_datetime(oil_price['Date'], dayfirst=False)"
   ]
  },
  {
   "cell_type": "code",
   "execution_count": 105,
   "id": "57d52c5f",
   "metadata": {},
   "outputs": [
    {
     "name": "stdout",
     "output_type": "stream",
     "text": [
      "<class 'pandas.core.frame.DataFrame'>\n",
      "RangeIndex: 989 entries, 0 to 988\n",
      "Data columns (total 5 columns):\n",
      " #   Column               Non-Null Count  Dtype         \n",
      "---  ------               --------------  -----         \n",
      " 0   Date                 989 non-null    datetime64[ns]\n",
      " 1   Barrel_oil_£         989 non-null    float64       \n",
      " 2   Petrol(pence/litre)  989 non-null    float64       \n",
      " 3   Petrol Dutyrate      989 non-null    float64       \n",
      " 4   petrol vat           989 non-null    float64       \n",
      "dtypes: datetime64[ns](1), float64(4)\n",
      "memory usage: 38.8 KB\n",
      "None\n",
      "<class 'pandas.core.frame.DataFrame'>\n",
      "RangeIndex: 989 entries, 0 to 988\n",
      "Data columns (total 5 columns):\n",
      " #   Column               Non-Null Count  Dtype         \n",
      "---  ------               --------------  -----         \n",
      " 0   Date                 989 non-null    datetime64[ns]\n",
      " 1   Barrel_oil_£         989 non-null    float64       \n",
      " 2   Diesel(pence/litre)  989 non-null    float64       \n",
      " 3   Diesel dutyrate      989 non-null    float64       \n",
      " 4   diesel vat           989 non-null    float64       \n",
      "dtypes: datetime64[ns](1), float64(4)\n",
      "memory usage: 38.8 KB\n",
      "None\n"
     ]
    }
   ],
   "source": [
    "print(petrol.info())\n",
    "print(diesel.info())"
   ]
  },
  {
   "cell_type": "markdown",
   "id": "7aca1a72",
   "metadata": {},
   "source": [
    "Plot a line graph with the price of a barrel of oil and the price of a litre of petrol"
   ]
  },
  {
   "cell_type": "code",
   "execution_count": 106,
   "id": "3b26d57d",
   "metadata": {},
   "outputs": [
    {
     "data": {
      "image/png": "[encoded data removed]",
      "text/plain": [
       "<Figure size 1152x648 with 1 Axes>"
      ]
     },
     "metadata": {
      "needs_background": "light"
     },
     "output_type": "display_data"
    }
   ],
   "source": [
    "plt.figure(figsize=(16,9))\n",
    "plt.plot(petrol['Date'], petrol['Petrol(pence/litre)'], label='Petrol Price / Litre')\n",
    "plt.plot(petrol['Date'], petrol['Barrel_oil_£'], label = 'Price of a barrel of Oil')\n",
    "plt.plot(diesel['Date'], diesel['Diesel(pence/litre)'], label = 'Diesel Price / Litre')\n",
    "plt.title('A graph to show the Change in price of Oil, Petrol and Diesel over time')\n",
    "plt.ylabel('Price in £')\n",
    "plt.xlabel('Date')\n",
    "plt.legend()\n",
    "plt.grid()\n",
    "plt.savefig('PriceChanges.jpg')\n",
    "plt.show()"
   ]
  },
  {
   "cell_type": "markdown",
   "id": "1f42730d",
   "metadata": {},
   "source": [
    "# Percentage Change Over Time"
   ]
  },
  {
   "cell_type": "code",
   "execution_count": 107,
   "id": "94adb0db",
   "metadata": {},
   "outputs": [
    {
     "data": {
      "text/html": [
       "<div>\n",
       "<style scoped>\n",
       "    .dataframe tbody tr th:only-of-type {\n",
       "        vertical-align: middle;\n",
       "    }\n",
       "\n",
       "    .dataframe tbody tr th {\n",
       "        vertical-align: top;\n",
       "    }\n",
       "\n",
       "    .dataframe thead th {\n",
       "        text-align: right;\n",
       "    }\n",
       "</style>\n",
       "<table border=\"1\" class=\"dataframe\">\n",
       "  <thead>\n",
       "    <tr style=\"text-align: right;\">\n",
       "      <th></th>\n",
       "      <th>Date</th>\n",
       "      <th>Barrel_oil_£</th>\n",
       "      <th>Percent Change</th>\n",
       "    </tr>\n",
       "  </thead>\n",
       "  <tbody>\n",
       "    <tr>\n",
       "      <th>0</th>\n",
       "      <td>2002-01-07</td>\n",
       "      <td>13.581168</td>\n",
       "      <td>NaN</td>\n",
       "    </tr>\n",
       "    <tr>\n",
       "      <th>1</th>\n",
       "      <td>2002-01-14</td>\n",
       "      <td>12.522600</td>\n",
       "      <td>-7.794381</td>\n",
       "    </tr>\n",
       "    <tr>\n",
       "      <th>2</th>\n",
       "      <td>2002-01-21</td>\n",
       "      <td>14.182905</td>\n",
       "      <td>13.258469</td>\n",
       "    </tr>\n",
       "    <tr>\n",
       "      <th>3</th>\n",
       "      <td>2002-01-28</td>\n",
       "      <td>14.376052</td>\n",
       "      <td>1.361830</td>\n",
       "    </tr>\n",
       "    <tr>\n",
       "      <th>4</th>\n",
       "      <td>2002-02-04</td>\n",
       "      <td>14.315716</td>\n",
       "      <td>-0.419698</td>\n",
       "    </tr>\n",
       "    <tr>\n",
       "      <th>...</th>\n",
       "      <td>...</td>\n",
       "      <td>...</td>\n",
       "      <td>...</td>\n",
       "    </tr>\n",
       "    <tr>\n",
       "      <th>1064</th>\n",
       "      <td>2022-05-30</td>\n",
       "      <td>95.155435</td>\n",
       "      <td>4.358306</td>\n",
       "    </tr>\n",
       "    <tr>\n",
       "      <th>1065</th>\n",
       "      <td>2022-06-06</td>\n",
       "      <td>97.959906</td>\n",
       "      <td>2.947253</td>\n",
       "    </tr>\n",
       "    <tr>\n",
       "      <th>1066</th>\n",
       "      <td>2022-06-13</td>\n",
       "      <td>89.609124</td>\n",
       "      <td>-8.524694</td>\n",
       "    </tr>\n",
       "    <tr>\n",
       "      <th>1067</th>\n",
       "      <td>2022-06-20</td>\n",
       "      <td>87.742586</td>\n",
       "      <td>-2.082978</td>\n",
       "    </tr>\n",
       "    <tr>\n",
       "      <th>1068</th>\n",
       "      <td>2022-06-27</td>\n",
       "      <td>89.049618</td>\n",
       "      <td>1.489621</td>\n",
       "    </tr>\n",
       "  </tbody>\n",
       "</table>\n",
       "<p>1069 rows × 3 columns</p>\n",
       "</div>"
      ],
      "text/plain": [
       "           Date  Barrel_oil_£  Percent Change\n",
       "0    2002-01-07     13.581168             NaN\n",
       "1    2002-01-14     12.522600       -7.794381\n",
       "2    2002-01-21     14.182905       13.258469\n",
       "3    2002-01-28     14.376052        1.361830\n",
       "4    2002-02-04     14.315716       -0.419698\n",
       "...         ...           ...             ...\n",
       "1064 2022-05-30     95.155435        4.358306\n",
       "1065 2022-06-06     97.959906        2.947253\n",
       "1066 2022-06-13     89.609124       -8.524694\n",
       "1067 2022-06-20     87.742586       -2.082978\n",
       "1068 2022-06-27     89.049618        1.489621\n",
       "\n",
       "[1069 rows x 3 columns]"
      ]
     },
     "execution_count": 107,
     "metadata": {},
     "output_type": "execute_result"
    }
   ],
   "source": [
    "oil_price.sort_values('Date', ascending=True, inplace=True, ignore_index=True)\n",
    "oil_price['Percent Change'] = oil_price['Barrel_oil_£'].pct_change() * 100\n",
    "oil_price"
   ]
  },
  {
   "cell_type": "code",
   "execution_count": 108,
   "id": "6cc3de36",
   "metadata": {},
   "outputs": [
    {
     "name": "stderr",
     "output_type": "stream",
     "text": [
      "/opt/anaconda3/lib/python3.8/site-packages/pandas/util/_decorators.py:311: SettingWithCopyWarning: \n",
      "A value is trying to be set on a copy of a slice from a DataFrame\n",
      "\n",
      "See the caveats in the documentation: https://pandas.pydata.org/pandas-docs/stable/user_guide/indexing.html#returning-a-view-versus-a-copy\n",
      "  return func(*args, **kwargs)\n",
      "/var/folders/xg/h5_b_c714jnf6rp29g95jdp80000gn/T/ipykernel_2766/3071527128.py:3: SettingWithCopyWarning: \n",
      "A value is trying to be set on a copy of a slice from a DataFrame.\n",
      "Try using .loc[row_indexer,col_indexer] = value instead\n",
      "\n",
      "See the caveats in the documentation: https://pandas.pydata.org/pandas-docs/stable/user_guide/indexing.html#returning-a-view-versus-a-copy\n",
      "  petrol_price['Percent Change'] = petrol_price['Petrol(pence/litre)'].pct_change() * 100\n"
     ]
    },
    {
     "data": {
      "text/html": [
       "<div>\n",
       "<style scoped>\n",
       "    .dataframe tbody tr th:only-of-type {\n",
       "        vertical-align: middle;\n",
       "    }\n",
       "\n",
       "    .dataframe tbody tr th {\n",
       "        vertical-align: top;\n",
       "    }\n",
       "\n",
       "    .dataframe thead th {\n",
       "        text-align: right;\n",
       "    }\n",
       "</style>\n",
       "<table border=\"1\" class=\"dataframe\">\n",
       "  <thead>\n",
       "    <tr style=\"text-align: right;\">\n",
       "      <th></th>\n",
       "      <th>Date</th>\n",
       "      <th>Petrol(pence/litre)</th>\n",
       "      <th>Percent Change</th>\n",
       "    </tr>\n",
       "  </thead>\n",
       "  <tbody>\n",
       "    <tr>\n",
       "      <th>0</th>\n",
       "      <td>2003-06-09</td>\n",
       "      <td>74.59</td>\n",
       "      <td>NaN</td>\n",
       "    </tr>\n",
       "    <tr>\n",
       "      <th>1</th>\n",
       "      <td>2003-06-16</td>\n",
       "      <td>74.47</td>\n",
       "      <td>-0.160879</td>\n",
       "    </tr>\n",
       "    <tr>\n",
       "      <th>2</th>\n",
       "      <td>2003-06-23</td>\n",
       "      <td>74.42</td>\n",
       "      <td>-0.067141</td>\n",
       "    </tr>\n",
       "    <tr>\n",
       "      <th>3</th>\n",
       "      <td>2003-06-30</td>\n",
       "      <td>74.35</td>\n",
       "      <td>-0.094061</td>\n",
       "    </tr>\n",
       "    <tr>\n",
       "      <th>4</th>\n",
       "      <td>2003-07-07</td>\n",
       "      <td>74.28</td>\n",
       "      <td>-0.094149</td>\n",
       "    </tr>\n",
       "    <tr>\n",
       "      <th>...</th>\n",
       "      <td>...</td>\n",
       "      <td>...</td>\n",
       "      <td>...</td>\n",
       "    </tr>\n",
       "    <tr>\n",
       "      <th>984</th>\n",
       "      <td>2022-05-30</td>\n",
       "      <td>170.36</td>\n",
       "      <td>1.652843</td>\n",
       "    </tr>\n",
       "    <tr>\n",
       "      <th>985</th>\n",
       "      <td>2022-06-06</td>\n",
       "      <td>174.99</td>\n",
       "      <td>2.717774</td>\n",
       "    </tr>\n",
       "    <tr>\n",
       "      <th>986</th>\n",
       "      <td>2022-06-13</td>\n",
       "      <td>182.53</td>\n",
       "      <td>4.308818</td>\n",
       "    </tr>\n",
       "    <tr>\n",
       "      <th>987</th>\n",
       "      <td>2022-06-20</td>\n",
       "      <td>186.85</td>\n",
       "      <td>2.366734</td>\n",
       "    </tr>\n",
       "    <tr>\n",
       "      <th>988</th>\n",
       "      <td>2022-06-27</td>\n",
       "      <td>190.93</td>\n",
       "      <td>2.183570</td>\n",
       "    </tr>\n",
       "  </tbody>\n",
       "</table>\n",
       "<p>989 rows × 3 columns</p>\n",
       "</div>"
      ],
      "text/plain": [
       "          Date  Petrol(pence/litre)  Percent Change\n",
       "0   2003-06-09                74.59             NaN\n",
       "1   2003-06-16                74.47       -0.160879\n",
       "2   2003-06-23                74.42       -0.067141\n",
       "3   2003-06-30                74.35       -0.094061\n",
       "4   2003-07-07                74.28       -0.094149\n",
       "..         ...                  ...             ...\n",
       "984 2022-05-30               170.36        1.652843\n",
       "985 2022-06-06               174.99        2.717774\n",
       "986 2022-06-13               182.53        4.308818\n",
       "987 2022-06-20               186.85        2.366734\n",
       "988 2022-06-27               190.93        2.183570\n",
       "\n",
       "[989 rows x 3 columns]"
      ]
     },
     "execution_count": 108,
     "metadata": {},
     "output_type": "execute_result"
    }
   ],
   "source": [
    "petrol_price = petrol[['Date','Petrol(pence/litre)']]\n",
    "petrol_price.sort_values('Date', ascending=True, inplace = True, ignore_index=True)\n",
    "petrol_price['Percent Change'] = petrol_price['Petrol(pence/litre)'].pct_change() * 100\n",
    "petrol_price"
   ]
  },
  {
   "cell_type": "code",
   "execution_count": 109,
   "id": "54fc3720",
   "metadata": {},
   "outputs": [
    {
     "name": "stderr",
     "output_type": "stream",
     "text": [
      "/opt/anaconda3/lib/python3.8/site-packages/pandas/util/_decorators.py:311: SettingWithCopyWarning: \n",
      "A value is trying to be set on a copy of a slice from a DataFrame\n",
      "\n",
      "See the caveats in the documentation: https://pandas.pydata.org/pandas-docs/stable/user_guide/indexing.html#returning-a-view-versus-a-copy\n",
      "  return func(*args, **kwargs)\n",
      "/var/folders/xg/h5_b_c714jnf6rp29g95jdp80000gn/T/ipykernel_2766/3601697119.py:3: SettingWithCopyWarning: \n",
      "A value is trying to be set on a copy of a slice from a DataFrame.\n",
      "Try using .loc[row_indexer,col_indexer] = value instead\n",
      "\n",
      "See the caveats in the documentation: https://pandas.pydata.org/pandas-docs/stable/user_guide/indexing.html#returning-a-view-versus-a-copy\n",
      "  diesel_price['Percent Change'] = diesel_price['Diesel(pence/litre)'].pct_change() * 100\n"
     ]
    },
    {
     "data": {
      "text/html": [
       "<div>\n",
       "<style scoped>\n",
       "    .dataframe tbody tr th:only-of-type {\n",
       "        vertical-align: middle;\n",
       "    }\n",
       "\n",
       "    .dataframe tbody tr th {\n",
       "        vertical-align: top;\n",
       "    }\n",
       "\n",
       "    .dataframe thead th {\n",
       "        text-align: right;\n",
       "    }\n",
       "</style>\n",
       "<table border=\"1\" class=\"dataframe\">\n",
       "  <thead>\n",
       "    <tr style=\"text-align: right;\">\n",
       "      <th></th>\n",
       "      <th>Date</th>\n",
       "      <th>Diesel(pence/litre)</th>\n",
       "      <th>Percent Change</th>\n",
       "    </tr>\n",
       "  </thead>\n",
       "  <tbody>\n",
       "    <tr>\n",
       "      <th>0</th>\n",
       "      <td>2003-06-09</td>\n",
       "      <td>76.77</td>\n",
       "      <td>NaN</td>\n",
       "    </tr>\n",
       "    <tr>\n",
       "      <th>1</th>\n",
       "      <td>2003-06-16</td>\n",
       "      <td>76.69</td>\n",
       "      <td>-0.104207</td>\n",
       "    </tr>\n",
       "    <tr>\n",
       "      <th>2</th>\n",
       "      <td>2003-06-23</td>\n",
       "      <td>76.62</td>\n",
       "      <td>-0.091277</td>\n",
       "    </tr>\n",
       "    <tr>\n",
       "      <th>3</th>\n",
       "      <td>2003-06-30</td>\n",
       "      <td>76.51</td>\n",
       "      <td>-0.143566</td>\n",
       "    </tr>\n",
       "    <tr>\n",
       "      <th>4</th>\n",
       "      <td>2003-07-07</td>\n",
       "      <td>76.46</td>\n",
       "      <td>-0.065351</td>\n",
       "    </tr>\n",
       "    <tr>\n",
       "      <th>...</th>\n",
       "      <td>...</td>\n",
       "      <td>...</td>\n",
       "      <td>...</td>\n",
       "    </tr>\n",
       "    <tr>\n",
       "      <th>984</th>\n",
       "      <td>2022-05-30</td>\n",
       "      <td>182.25</td>\n",
       "      <td>0.601678</td>\n",
       "    </tr>\n",
       "    <tr>\n",
       "      <th>985</th>\n",
       "      <td>2022-06-06</td>\n",
       "      <td>184.94</td>\n",
       "      <td>1.475995</td>\n",
       "    </tr>\n",
       "    <tr>\n",
       "      <th>986</th>\n",
       "      <td>2022-06-13</td>\n",
       "      <td>190.43</td>\n",
       "      <td>2.968530</td>\n",
       "    </tr>\n",
       "    <tr>\n",
       "      <th>987</th>\n",
       "      <td>2022-06-20</td>\n",
       "      <td>194.87</td>\n",
       "      <td>2.331565</td>\n",
       "    </tr>\n",
       "    <tr>\n",
       "      <th>988</th>\n",
       "      <td>2022-06-27</td>\n",
       "      <td>198.93</td>\n",
       "      <td>2.083440</td>\n",
       "    </tr>\n",
       "  </tbody>\n",
       "</table>\n",
       "<p>989 rows × 3 columns</p>\n",
       "</div>"
      ],
      "text/plain": [
       "          Date  Diesel(pence/litre)  Percent Change\n",
       "0   2003-06-09                76.77             NaN\n",
       "1   2003-06-16                76.69       -0.104207\n",
       "2   2003-06-23                76.62       -0.091277\n",
       "3   2003-06-30                76.51       -0.143566\n",
       "4   2003-07-07                76.46       -0.065351\n",
       "..         ...                  ...             ...\n",
       "984 2022-05-30               182.25        0.601678\n",
       "985 2022-06-06               184.94        1.475995\n",
       "986 2022-06-13               190.43        2.968530\n",
       "987 2022-06-20               194.87        2.331565\n",
       "988 2022-06-27               198.93        2.083440\n",
       "\n",
       "[989 rows x 3 columns]"
      ]
     },
     "execution_count": 109,
     "metadata": {},
     "output_type": "execute_result"
    }
   ],
   "source": [
    "diesel_price = diesel[['Date','Diesel(pence/litre)']]\n",
    "diesel_price.sort_values('Date', ascending=True, inplace = True, ignore_index=True)\n",
    "diesel_price['Percent Change'] = diesel_price['Diesel(pence/litre)'].pct_change() * 100\n",
    "diesel_price"
   ]
  },
  {
   "cell_type": "code",
   "execution_count": null,
   "id": "46382e11",
   "metadata": {},
   "outputs": [],
   "source": []
  },
  {
   "cell_type": "code",
   "execution_count": null,
   "id": "d8fcf84b",
   "metadata": {},
   "outputs": [],
   "source": []
  },
  {
   "cell_type": "code",
   "execution_count": null,
   "id": "d0b64d7b",
   "metadata": {},
   "outputs": [],
   "source": []
  }
 ],
 "metadata": {
  "kernelspec": {
   "display_name": "Python 3 (ipykernel)",
   "language": "python",
   "name": "python3"
  },
  "language_info": {
   "codemirror_mode": {
    "name": "ipython",
    "version": 3
   },
   "file_extension": ".py",
   "mimetype": "text/x-python",
   "name": "python",
   "nbconvert_exporter": "python",
   "pygments_lexer": "ipython3",
   "version": "3.8.11"
  }
 },
 "nbformat": 4,
 "nbformat_minor": 5
}
