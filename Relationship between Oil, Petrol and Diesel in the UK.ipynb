{
 "cells": [
  {
   "cell_type": "markdown",
   "id": "e7e75a58",
   "metadata": {},
   "source": [
    "Import the necessary packages"
   ]
  },
  {
   "cell_type": "code",
   "execution_count": 11,
   "id": "511ab5fd",
   "metadata": {},
   "outputs": [],
   "source": [
    "import pandas as pd\n",
    "import numpy as np\n",
    "import matplotlib.pyplot as plt"
   ]
  },
  {
   "cell_type": "markdown",
   "id": "2b7edfb5",
   "metadata": {},
   "source": [
    "Import and check out the data "
   ]
  },
  {
   "cell_type": "code",
   "execution_count": 12,
   "id": "00a09fa5",
   "metadata": {},
   "outputs": [],
   "source": [
    "oil_dataset = pd.read_csv('cleaned_datasets/date_oil_fuel_tax.csv')"
   ]
  },
  {
   "cell_type": "code",
   "execution_count": 16,
   "id": "69404845",
   "metadata": {},
   "outputs": [
    {
     "name": "stdout",
     "output_type": "stream",
     "text": [
      "         Date  Barrel_oil_£  Diesel(pence/litre)  Petrol(pence/litre)  \\\n",
      "0  2022-06-27     89.049618               198.93               190.93   \n",
      "1  2022-06-20     87.742586               194.87               186.85   \n",
      "2  2022-06-13     89.609124               190.43               182.53   \n",
      "3  2022-06-06     97.959906               184.94               174.99   \n",
      "4  2022-05-30     95.155435               182.25               170.36   \n",
      "\n",
      "   Dutyrate   vat  \n",
      "0     52.95  20.0  \n",
      "1     52.95  20.0  \n",
      "2     52.95  20.0  \n",
      "3     52.95  20.0  \n",
      "4     52.95  20.0  \n"
     ]
    }
   ],
   "source": [
    "print(oil_dataset.head())"
   ]
  },
  {
   "cell_type": "code",
   "execution_count": 17,
   "id": "423f21cf",
   "metadata": {},
   "outputs": [
    {
     "name": "stdout",
     "output_type": "stream",
     "text": [
      "<class 'pandas.core.frame.DataFrame'>\n",
      "RangeIndex: 989 entries, 0 to 988\n",
      "Data columns (total 6 columns):\n",
      " #   Column               Non-Null Count  Dtype  \n",
      "---  ------               --------------  -----  \n",
      " 0   Date                 989 non-null    object \n",
      " 1   Barrel_oil_£         989 non-null    float64\n",
      " 2   Diesel(pence/litre)  989 non-null    float64\n",
      " 3   Petrol(pence/litre)  989 non-null    float64\n",
      " 4   Dutyrate             989 non-null    float64\n",
      " 5   vat                  989 non-null    float64\n",
      "dtypes: float64(5), object(1)\n",
      "memory usage: 46.5+ KB\n",
      "None\n"
     ]
    }
   ],
   "source": [
    "print(oil_dataset.info())"
   ]
  },
  {
   "cell_type": "markdown",
   "id": "61738824",
   "metadata": {},
   "source": [
    "First we need to convert the Date column to date format"
   ]
  },
  {
   "cell_type": "code",
   "execution_count": 24,
   "id": "7e190c0d",
   "metadata": {},
   "outputs": [
    {
     "data": {
      "text/html": [
       "<div>\n",
       "<style scoped>\n",
       "    .dataframe tbody tr th:only-of-type {\n",
       "        vertical-align: middle;\n",
       "    }\n",
       "\n",
       "    .dataframe tbody tr th {\n",
       "        vertical-align: top;\n",
       "    }\n",
       "\n",
       "    .dataframe thead th {\n",
       "        text-align: right;\n",
       "    }\n",
       "</style>\n",
       "<table border=\"1\" class=\"dataframe\">\n",
       "  <thead>\n",
       "    <tr style=\"text-align: right;\">\n",
       "      <th></th>\n",
       "      <th>Date</th>\n",
       "      <th>Barrel_oil_£</th>\n",
       "      <th>Diesel(pence/litre)</th>\n",
       "      <th>Petrol(pence/litre)</th>\n",
       "      <th>Dutyrate</th>\n",
       "      <th>vat</th>\n",
       "    </tr>\n",
       "  </thead>\n",
       "  <tbody>\n",
       "    <tr>\n",
       "      <th>0</th>\n",
       "      <td>2022-06-27</td>\n",
       "      <td>89.049618</td>\n",
       "      <td>198.93</td>\n",
       "      <td>190.93</td>\n",
       "      <td>52.95</td>\n",
       "      <td>20.0</td>\n",
       "    </tr>\n",
       "    <tr>\n",
       "      <th>1</th>\n",
       "      <td>2022-06-20</td>\n",
       "      <td>87.742586</td>\n",
       "      <td>194.87</td>\n",
       "      <td>186.85</td>\n",
       "      <td>52.95</td>\n",
       "      <td>20.0</td>\n",
       "    </tr>\n",
       "    <tr>\n",
       "      <th>2</th>\n",
       "      <td>2022-06-13</td>\n",
       "      <td>89.609124</td>\n",
       "      <td>190.43</td>\n",
       "      <td>182.53</td>\n",
       "      <td>52.95</td>\n",
       "      <td>20.0</td>\n",
       "    </tr>\n",
       "    <tr>\n",
       "      <th>3</th>\n",
       "      <td>2022-06-06</td>\n",
       "      <td>97.959906</td>\n",
       "      <td>184.94</td>\n",
       "      <td>174.99</td>\n",
       "      <td>52.95</td>\n",
       "      <td>20.0</td>\n",
       "    </tr>\n",
       "    <tr>\n",
       "      <th>4</th>\n",
       "      <td>2022-05-30</td>\n",
       "      <td>95.155435</td>\n",
       "      <td>182.25</td>\n",
       "      <td>170.36</td>\n",
       "      <td>52.95</td>\n",
       "      <td>20.0</td>\n",
       "    </tr>\n",
       "  </tbody>\n",
       "</table>\n",
       "</div>"
      ],
      "text/plain": [
       "        Date  Barrel_oil_£  Diesel(pence/litre)  Petrol(pence/litre)  \\\n",
       "0 2022-06-27     89.049618               198.93               190.93   \n",
       "1 2022-06-20     87.742586               194.87               186.85   \n",
       "2 2022-06-13     89.609124               190.43               182.53   \n",
       "3 2022-06-06     97.959906               184.94               174.99   \n",
       "4 2022-05-30     95.155435               182.25               170.36   \n",
       "\n",
       "   Dutyrate   vat  \n",
       "0     52.95  20.0  \n",
       "1     52.95  20.0  \n",
       "2     52.95  20.0  \n",
       "3     52.95  20.0  \n",
       "4     52.95  20.0  "
      ]
     },
     "execution_count": 24,
     "metadata": {},
     "output_type": "execute_result"
    }
   ],
   "source": [
    "oil_dataset['Date'] = pd.to_datetime(oil_dataset['Date'], dayfirst=False)\n"
   ]
  },
  {
   "cell_type": "markdown",
   "id": "c02d2fd1",
   "metadata": {},
   "source": [
    "Now we'll need to put the dataset in ascending order"
   ]
  },
  {
   "cell_type": "code",
   "execution_count": 27,
   "id": "d8c50b2c",
   "metadata": {},
   "outputs": [
    {
     "data": {
      "text/html": [
       "<div>\n",
       "<style scoped>\n",
       "    .dataframe tbody tr th:only-of-type {\n",
       "        vertical-align: middle;\n",
       "    }\n",
       "\n",
       "    .dataframe tbody tr th {\n",
       "        vertical-align: top;\n",
       "    }\n",
       "\n",
       "    .dataframe thead th {\n",
       "        text-align: right;\n",
       "    }\n",
       "</style>\n",
       "<table border=\"1\" class=\"dataframe\">\n",
       "  <thead>\n",
       "    <tr style=\"text-align: right;\">\n",
       "      <th></th>\n",
       "      <th>Date</th>\n",
       "      <th>Barrel_oil_£</th>\n",
       "      <th>Diesel(pence/litre)</th>\n",
       "      <th>Petrol(pence/litre)</th>\n",
       "      <th>Dutyrate</th>\n",
       "      <th>vat</th>\n",
       "    </tr>\n",
       "  </thead>\n",
       "  <tbody>\n",
       "    <tr>\n",
       "      <th>988</th>\n",
       "      <td>2003-06-09</td>\n",
       "      <td>18.319505</td>\n",
       "      <td>76.77</td>\n",
       "      <td>74.59</td>\n",
       "      <td>45.82</td>\n",
       "      <td>17.5</td>\n",
       "    </tr>\n",
       "    <tr>\n",
       "      <th>987</th>\n",
       "      <td>2003-06-16</td>\n",
       "      <td>18.519738</td>\n",
       "      <td>76.69</td>\n",
       "      <td>74.47</td>\n",
       "      <td>45.82</td>\n",
       "      <td>17.5</td>\n",
       "    </tr>\n",
       "    <tr>\n",
       "      <th>986</th>\n",
       "      <td>2003-06-23</td>\n",
       "      <td>17.746401</td>\n",
       "      <td>76.62</td>\n",
       "      <td>74.42</td>\n",
       "      <td>45.82</td>\n",
       "      <td>17.5</td>\n",
       "    </tr>\n",
       "    <tr>\n",
       "      <th>985</th>\n",
       "      <td>2003-06-30</td>\n",
       "      <td>18.242874</td>\n",
       "      <td>76.51</td>\n",
       "      <td>74.35</td>\n",
       "      <td>45.82</td>\n",
       "      <td>17.5</td>\n",
       "    </tr>\n",
       "    <tr>\n",
       "      <th>984</th>\n",
       "      <td>2003-07-07</td>\n",
       "      <td>19.180896</td>\n",
       "      <td>76.46</td>\n",
       "      <td>74.28</td>\n",
       "      <td>45.82</td>\n",
       "      <td>17.5</td>\n",
       "    </tr>\n",
       "    <tr>\n",
       "      <th>...</th>\n",
       "      <td>...</td>\n",
       "      <td>...</td>\n",
       "      <td>...</td>\n",
       "      <td>...</td>\n",
       "      <td>...</td>\n",
       "      <td>...</td>\n",
       "    </tr>\n",
       "    <tr>\n",
       "      <th>4</th>\n",
       "      <td>2022-05-30</td>\n",
       "      <td>95.155435</td>\n",
       "      <td>182.25</td>\n",
       "      <td>170.36</td>\n",
       "      <td>52.95</td>\n",
       "      <td>20.0</td>\n",
       "    </tr>\n",
       "    <tr>\n",
       "      <th>3</th>\n",
       "      <td>2022-06-06</td>\n",
       "      <td>97.959906</td>\n",
       "      <td>184.94</td>\n",
       "      <td>174.99</td>\n",
       "      <td>52.95</td>\n",
       "      <td>20.0</td>\n",
       "    </tr>\n",
       "    <tr>\n",
       "      <th>2</th>\n",
       "      <td>2022-06-13</td>\n",
       "      <td>89.609124</td>\n",
       "      <td>190.43</td>\n",
       "      <td>182.53</td>\n",
       "      <td>52.95</td>\n",
       "      <td>20.0</td>\n",
       "    </tr>\n",
       "    <tr>\n",
       "      <th>1</th>\n",
       "      <td>2022-06-20</td>\n",
       "      <td>87.742586</td>\n",
       "      <td>194.87</td>\n",
       "      <td>186.85</td>\n",
       "      <td>52.95</td>\n",
       "      <td>20.0</td>\n",
       "    </tr>\n",
       "    <tr>\n",
       "      <th>0</th>\n",
       "      <td>2022-06-27</td>\n",
       "      <td>89.049618</td>\n",
       "      <td>198.93</td>\n",
       "      <td>190.93</td>\n",
       "      <td>52.95</td>\n",
       "      <td>20.0</td>\n",
       "    </tr>\n",
       "  </tbody>\n",
       "</table>\n",
       "<p>989 rows × 6 columns</p>\n",
       "</div>"
      ],
      "text/plain": [
       "          Date  Barrel_oil_£  Diesel(pence/litre)  Petrol(pence/litre)  \\\n",
       "988 2003-06-09     18.319505                76.77                74.59   \n",
       "987 2003-06-16     18.519738                76.69                74.47   \n",
       "986 2003-06-23     17.746401                76.62                74.42   \n",
       "985 2003-06-30     18.242874                76.51                74.35   \n",
       "984 2003-07-07     19.180896                76.46                74.28   \n",
       "..         ...           ...                  ...                  ...   \n",
       "4   2022-05-30     95.155435               182.25               170.36   \n",
       "3   2022-06-06     97.959906               184.94               174.99   \n",
       "2   2022-06-13     89.609124               190.43               182.53   \n",
       "1   2022-06-20     87.742586               194.87               186.85   \n",
       "0   2022-06-27     89.049618               198.93               190.93   \n",
       "\n",
       "     Dutyrate   vat  \n",
       "988     45.82  17.5  \n",
       "987     45.82  17.5  \n",
       "986     45.82  17.5  \n",
       "985     45.82  17.5  \n",
       "984     45.82  17.5  \n",
       "..        ...   ...  \n",
       "4       52.95  20.0  \n",
       "3       52.95  20.0  \n",
       "2       52.95  20.0  \n",
       "1       52.95  20.0  \n",
       "0       52.95  20.0  \n",
       "\n",
       "[989 rows x 6 columns]"
      ]
     },
     "execution_count": 27,
     "metadata": {},
     "output_type": "execute_result"
    }
   ],
   "source": [
    "oil_dataset.sort_values(by='Date', ascending=True, inplace=True)\n",
    "oil_dataset"
   ]
  },
  {
   "cell_type": "markdown",
   "id": "24c6e986",
   "metadata": {},
   "source": [
    "Now let's draw a linegraph to show how the price changes"
   ]
  },
  {
   "cell_type": "code",
   "execution_count": 30,
   "id": "581d23c4",
   "metadata": {},
   "outputs": [
    {
     "data": {
      "text/plain": [
       "[<matplotlib.lines.Line2D at 0x7f9b3c73c3d0>]"
      ]
     },
     "execution_count": 30,
     "metadata": {},
     "output_type": "execute_result"
    },
    {
     "data": {
      "image/png": "[encoded data removed]",
      "text/plain": [
       "<Figure size 1152x648 with 1 Axes>"
      ]
     },
     "metadata": {
      "needs_background": "light"
     },
     "output_type": "display_data"
    }
   ],
   "source": [
    "plt.figure(figsize=(16,9))\n",
    "plt.plot(oil_dataset['Date'], oil_dataset['Barrel_oil_£'], label='Barrel of Oil')\n",
    "plt.plot(oil_dataset['Date'], oil_dataset['Petrol(pence/litre)'], label='Petrol, Pence/litre')\n",
    "plt.plot(oil_dataset['Date'], oil_dataset['Diesel(pence/litre)'], label='Diesel pence/litre')"
   ]
  },
  {
   "cell_type": "code",
   "execution_count": null,
   "id": "a52568d5",
   "metadata": {},
   "outputs": [],
   "source": []
  },
  {
   "cell_type": "code",
   "execution_count": null,
   "id": "27e4db35",
   "metadata": {},
   "outputs": [],
   "source": []
  },
  {
   "cell_type": "code",
   "execution_count": null,
   "id": "b48e5783",
   "metadata": {},
   "outputs": [],
   "source": []
  },
  {
   "cell_type": "code",
   "execution_count": null,
   "id": "6ebb55fe",
   "metadata": {},
   "outputs": [],
   "source": []
  },
  {
   "cell_type": "code",
   "execution_count": null,
   "id": "0bc3b2c5",
   "metadata": {},
   "outputs": [],
   "source": []
  },
  {
   "cell_type": "code",
   "execution_count": null,
   "id": "932a3b4b",
   "metadata": {},
   "outputs": [],
   "source": []
  },
  {
   "cell_type": "code",
   "execution_count": null,
   "id": "f73df670",
   "metadata": {},
   "outputs": [],
   "source": []
  },
  {
   "cell_type": "code",
   "execution_count": null,
   "id": "f6abe4c6",
   "metadata": {},
   "outputs": [],
   "source": []
  },
  {
   "cell_type": "code",
   "execution_count": null,
   "id": "d1e8ec07",
   "metadata": {},
   "outputs": [],
   "source": []
  },
  {
   "cell_type": "code",
   "execution_count": null,
   "id": "c1dbe8be",
   "metadata": {},
   "outputs": [],
   "source": []
  },
  {
   "cell_type": "code",
   "execution_count": null,
   "id": "a772797a",
   "metadata": {},
   "outputs": [],
   "source": []
  },
  {
   "cell_type": "code",
   "execution_count": null,
   "id": "8e4be12f",
   "metadata": {},
   "outputs": [],
   "source": []
  }
 ],
 "metadata": {
  "kernelspec": {
   "display_name": "Python 3 (ipykernel)",
   "language": "python",
   "name": "python3"
  },
  "language_info": {
   "codemirror_mode": {
    "name": "ipython",
    "version": 3
   },
   "file_extension": ".py",
   "mimetype": "text/x-python",
   "name": "python",
   "nbconvert_exporter": "python",
   "pygments_lexer": "ipython3",
   "version": "3.8.11"
  }
 },
 "nbformat": 4,
 "nbformat_minor": 5
}
