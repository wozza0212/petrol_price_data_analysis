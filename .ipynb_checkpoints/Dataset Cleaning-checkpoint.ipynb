{
 "cells": [
  {
   "cell_type": "markdown",
   "id": "ca645374",
   "metadata": {},
   "source": [
    "A quick look into the relationship between the price of oil per barrol, and the price of petrol per litre in the UK"
   ]
  },
  {
   "cell_type": "markdown",
   "id": "6ece4b4f",
   "metadata": {},
   "source": [
    "Import all neccessary packages"
   ]
  },
  {
   "cell_type": "code",
   "execution_count": 1,
   "id": "ed0b6ff3",
   "metadata": {},
   "outputs": [],
   "source": [
    "import pandas as pd\n",
    "import numpy as np\n",
    "import matplotlib.pyplot as plt\n",
    "import datetime"
   ]
  },
  {
   "cell_type": "markdown",
   "id": "f0e162a5",
   "metadata": {},
   "source": [
    "Load and check all the datasets!"
   ]
  },
  {
   "cell_type": "code",
   "execution_count": 2,
   "id": "9e2b46aa",
   "metadata": {},
   "outputs": [],
   "source": [
    "exchange_rate = pd.read_csv('cleaned_datasets/exchange_rate.csv')\n",
    "weekly_petrol = pd.read_csv('cleaned_datasets/weekly_petrol_pricesnew.csv')\n",
    "weekly_oil = pd.read_csv('cleaned_datasets/cleaned_oil.csv')"
   ]
  },
  {
   "cell_type": "markdown",
   "id": "432b4b07",
   "metadata": {},
   "source": [
    "Now clean the weekly_oil dataset"
   ]
  },
  {
   "cell_type": "code",
   "execution_count": 3,
   "id": "12aed9e7",
   "metadata": {},
   "outputs": [
    {
     "name": "stdout",
     "output_type": "stream",
     "text": [
      "         Date   Price    Open    High     Low     Vol. Change %\n",
      "0  26/06/2022  107.73  106.67  114.02  105.11  282.91K    0.10%\n",
      "1  19/06/2022  107.62  110.58  112.47  101.53    1.13M   -1.77%\n",
      "2  12/06/2022  109.56  120.19  123.68  108.25    1.31M   -9.21%\n",
      "3  05/06/2022  120.67  120.82  123.18  117.14    1.58M    1.51%\n",
      "4  29/05/2022  118.87  114.96  120.46  111.20    1.30M    3.30%\n",
      "<class 'pandas.core.frame.DataFrame'>\n",
      "RangeIndex: 2048 entries, 0 to 2047\n",
      "Data columns (total 7 columns):\n",
      " #   Column    Non-Null Count  Dtype  \n",
      "---  ------    --------------  -----  \n",
      " 0   Date      2048 non-null   object \n",
      " 1   Price     2048 non-null   float64\n",
      " 2   Open      2048 non-null   float64\n",
      " 3   High      2048 non-null   float64\n",
      " 4   Low       2048 non-null   float64\n",
      " 5   Vol.      2048 non-null   object \n",
      " 6   Change %  2048 non-null   object \n",
      "dtypes: float64(4), object(3)\n",
      "memory usage: 112.1+ KB\n",
      "None\n",
      "Index(['Date', 'Price', 'Open', 'High', 'Low', 'Vol.', 'Change %'], dtype='object')\n"
     ]
    }
   ],
   "source": [
    "print(weekly_oil.head())\n",
    "print(weekly_oil.info())\n",
    "print(weekly_oil.columns)\n",
    "weekly_oil.rename(columns={'Price': 'Price($)'}, inplace=True)\n",
    "weekly_oil['Date'] = pd.to_datetime(weekly_oil['Date'], dayfirst=True)"
   ]
  },
  {
   "cell_type": "code",
   "execution_count": 4,
   "id": "cf38cc2b",
   "metadata": {},
   "outputs": [
    {
     "name": "stdout",
     "output_type": "stream",
     "text": [
      "        Date  Price($)\n",
      "0 2022-06-26    107.73\n",
      "1 2022-06-19    107.62\n",
      "2 2022-06-12    109.56\n",
      "3 2022-06-05    120.67\n",
      "4 2022-05-29    118.87\n",
      "<class 'pandas.core.frame.DataFrame'>\n",
      "RangeIndex: 2048 entries, 0 to 2047\n",
      "Data columns (total 2 columns):\n",
      " #   Column    Non-Null Count  Dtype         \n",
      "---  ------    --------------  -----         \n",
      " 0   Date      2048 non-null   datetime64[ns]\n",
      " 1   Price($)  2048 non-null   float64       \n",
      "dtypes: datetime64[ns](1), float64(1)\n",
      "memory usage: 32.1 KB\n",
      "None\n"
     ]
    }
   ],
   "source": [
    "oil_to_merge = weekly_oil[['Date', 'Price($)']]\n",
    "print(oil_to_merge.head())\n",
    "print(oil_to_merge.info())"
   ]
  },
  {
   "cell_type": "markdown",
   "id": "de18725e",
   "metadata": {},
   "source": [
    "Now check and clean the Petrol Dataset"
   ]
  },
  {
   "cell_type": "code",
   "execution_count": 5,
   "id": "b32e1ac1",
   "metadata": {},
   "outputs": [
    {
     "name": "stdout",
     "output_type": "stream",
     "text": [
      "         Date  Petrol(pence/litre)  Diesel(pence/litre)  Petrol Dutyrate  \\\n",
      "0  09/06/2003                74.59                76.77            45.82   \n",
      "1  16/06/2003                74.47                76.69            45.82   \n",
      "2  23/06/2003                74.42                76.62            45.82   \n",
      "3  30/06/2003                74.35                76.51            45.82   \n",
      "4  07/07/2003                74.28                76.46            45.82   \n",
      "\n",
      "   Diesel dutyrate  petrol vat  diesel vat  \n",
      "0            45.82        17.5        17.5  \n",
      "1            45.82        17.5        17.5  \n",
      "2            45.82        17.5        17.5  \n",
      "3            45.82        17.5        17.5  \n",
      "4            45.82        17.5        17.5  \n",
      "<class 'pandas.core.frame.DataFrame'>\n",
      "RangeIndex: 995 entries, 0 to 994\n",
      "Data columns (total 7 columns):\n",
      " #   Column               Non-Null Count  Dtype  \n",
      "---  ------               --------------  -----  \n",
      " 0   Date                 995 non-null    object \n",
      " 1   Petrol(pence/litre)  995 non-null    float64\n",
      " 2   Diesel(pence/litre)  995 non-null    float64\n",
      " 3   Petrol Dutyrate      995 non-null    float64\n",
      " 4   Diesel dutyrate      995 non-null    float64\n",
      " 5   petrol vat           995 non-null    float64\n",
      " 6   diesel vat           995 non-null    float64\n",
      "dtypes: float64(6), object(1)\n",
      "memory usage: 54.5+ KB\n",
      "None\n",
      "Index(['Date', 'Petrol(pence/litre)', 'Diesel(pence/litre)', 'Petrol Dutyrate',\n",
      "       'Diesel dutyrate', 'petrol vat', 'diesel vat'],\n",
      "      dtype='object')\n"
     ]
    }
   ],
   "source": [
    "print(weekly_petrol.head())\n",
    "print(weekly_petrol.info())\n",
    "print(weekly_petrol.columns)"
   ]
  },
  {
   "cell_type": "code",
   "execution_count": 6,
   "id": "e4ad403b",
   "metadata": {},
   "outputs": [
    {
     "name": "stdout",
     "output_type": "stream",
     "text": [
      "        Date  Petrol(pence/litre)  Diesel(pence/litre)  Petrol Dutyrate  \\\n",
      "0 2003-06-09                74.59                76.77            45.82   \n",
      "1 2003-06-16                74.47                76.69            45.82   \n",
      "2 2003-06-23                74.42                76.62            45.82   \n",
      "3 2003-06-30                74.35                76.51            45.82   \n",
      "4 2003-07-07                74.28                76.46            45.82   \n",
      "\n",
      "   Diesel dutyrate  petrol vat  diesel vat  \n",
      "0            45.82        17.5        17.5  \n",
      "1            45.82        17.5        17.5  \n",
      "2            45.82        17.5        17.5  \n",
      "3            45.82        17.5        17.5  \n",
      "4            45.82        17.5        17.5  \n"
     ]
    }
   ],
   "source": [
    "weekly_petrol['Date'] = pd.to_datetime(weekly_petrol['Date'], dayfirst=True)\n",
    "weekly_petrol.sort_values(by='Date', ascending=False)\n",
    "print(weekly_petrol.head())\n",
    "petrol_to_merge = weekly_petrol[['Date', 'Petrol(pence/litre)', 'Petrol Dutyrate', 'petrol vat']]\n",
    "diesel_to_merge = weekly_petrol[['Date','Diesel(pence/litre)','Diesel dutyrate','diesel vat']]"
   ]
  },
  {
   "cell_type": "code",
   "execution_count": 7,
   "id": "0e7656c4",
   "metadata": {},
   "outputs": [
    {
     "name": "stdout",
     "output_type": "stream",
     "text": [
      "          Date  Petrol(pence/litre)  Petrol Dutyrate  petrol vat\n",
      "994 2022-06-27               190.93            52.95        20.0\n",
      "993 2022-06-20               186.85            52.95        20.0\n",
      "992 2022-06-13               182.53            52.95        20.0\n",
      "991 2022-06-06               174.99            52.95        20.0\n",
      "990 2022-05-30               170.36            52.95        20.0\n",
      "          Date  Diesel(pence/litre)  Diesel dutyrate  diesel vat\n",
      "994 2022-06-27               198.93            52.95        20.0\n",
      "993 2022-06-20               194.87            52.95        20.0\n",
      "992 2022-06-13               190.43            52.95        20.0\n",
      "991 2022-06-06               184.94            52.95        20.0\n",
      "990 2022-05-30               182.25            52.95        20.0\n",
      "<class 'pandas.core.frame.DataFrame'>\n",
      "Int64Index: 995 entries, 994 to 0\n",
      "Data columns (total 4 columns):\n",
      " #   Column               Non-Null Count  Dtype         \n",
      "---  ------               --------------  -----         \n",
      " 0   Date                 995 non-null    datetime64[ns]\n",
      " 1   Petrol(pence/litre)  995 non-null    float64       \n",
      " 2   Petrol Dutyrate      995 non-null    float64       \n",
      " 3   petrol vat           995 non-null    float64       \n",
      "dtypes: datetime64[ns](1), float64(3)\n",
      "memory usage: 38.9 KB\n",
      "None\n",
      "<class 'pandas.core.frame.DataFrame'>\n",
      "Int64Index: 995 entries, 994 to 0\n",
      "Data columns (total 4 columns):\n",
      " #   Column               Non-Null Count  Dtype         \n",
      "---  ------               --------------  -----         \n",
      " 0   Date                 995 non-null    datetime64[ns]\n",
      " 1   Diesel(pence/litre)  995 non-null    float64       \n",
      " 2   Diesel dutyrate      995 non-null    float64       \n",
      " 3   diesel vat           995 non-null    float64       \n",
      "dtypes: datetime64[ns](1), float64(3)\n",
      "memory usage: 38.9 KB\n",
      "None\n"
     ]
    },
    {
     "name": "stderr",
     "output_type": "stream",
     "text": [
      "/opt/anaconda3/lib/python3.8/site-packages/pandas/util/_decorators.py:311: SettingWithCopyWarning: \n",
      "A value is trying to be set on a copy of a slice from a DataFrame\n",
      "\n",
      "See the caveats in the documentation: https://pandas.pydata.org/pandas-docs/stable/user_guide/indexing.html#returning-a-view-versus-a-copy\n",
      "  return func(*args, **kwargs)\n"
     ]
    }
   ],
   "source": [
    "petrol_to_merge.sort_values(by='Date', ascending=False, inplace=True)\n",
    "diesel_to_merge.sort_values(by='Date', ascending=False, inplace=True)\n",
    "print(petrol_to_merge.head())\n",
    "print(diesel_to_merge.head())\n",
    "print(petrol_to_merge.info())\n",
    "print(diesel_to_merge.info())"
   ]
  },
  {
   "cell_type": "markdown",
   "id": "b3d4b758",
   "metadata": {},
   "source": [
    "Now clean the exchange_rate dataset"
   ]
  },
  {
   "cell_type": "code",
   "execution_count": 8,
   "id": "e63e6780",
   "metadata": {},
   "outputs": [
    {
     "name": "stdout",
     "output_type": "stream",
     "text": [
      "         Date   Price\n",
      "0  26/06/2022  0.8266\n",
      "1  19/06/2022  0.8153\n",
      "2  12/06/2022  0.8179\n",
      "3  05/06/2022  0.8118\n",
      "4  29/05/2022  0.8005\n",
      "<class 'pandas.core.frame.DataFrame'>\n",
      "RangeIndex: 1069 entries, 0 to 1068\n",
      "Data columns (total 2 columns):\n",
      " #   Column  Non-Null Count  Dtype  \n",
      "---  ------  --------------  -----  \n",
      " 0   Date    1069 non-null   object \n",
      " 1   Price   1069 non-null   float64\n",
      "dtypes: float64(1), object(1)\n",
      "memory usage: 16.8+ KB\n",
      "None\n"
     ]
    }
   ],
   "source": [
    "print(exchange_rate.head())\n",
    "print(exchange_rate.info())\n",
    "exchange_rate.rename(columns={'Price': 'USDtoGBP'},inplace=True)\n",
    "exchange_rate['Date'] = pd.to_datetime(exchange_rate['Date'], dayfirst=True)"
   ]
  },
  {
   "cell_type": "code",
   "execution_count": 9,
   "id": "0f6baca6",
   "metadata": {},
   "outputs": [
    {
     "name": "stdout",
     "output_type": "stream",
     "text": [
      "        Date  USDtoGBP\n",
      "0 2022-06-26    0.8266\n",
      "1 2022-06-19    0.8153\n",
      "2 2022-06-12    0.8179\n",
      "3 2022-06-05    0.8118\n",
      "4 2022-05-29    0.8005\n"
     ]
    }
   ],
   "source": [
    "print(exchange_rate.head())"
   ]
  },
  {
   "cell_type": "markdown",
   "id": "7e18de95",
   "metadata": {},
   "source": [
    "Now merge the datasets to give differeent sets for petrol and diesel"
   ]
  },
  {
   "cell_type": "code",
   "execution_count": 10,
   "id": "68ab84c5",
   "metadata": {},
   "outputs": [],
   "source": [
    "ex_oil = oil_to_merge.merge(exchange_rate, how='inner', on='Date')"
   ]
  },
  {
   "cell_type": "code",
   "execution_count": 11,
   "id": "0cbbe1c9",
   "metadata": {},
   "outputs": [
    {
     "name": "stdout",
     "output_type": "stream",
     "text": [
      "        Date  Price($)  USDtoGBP  Barrel_oil_£ matching_date\n",
      "0 2022-06-26    107.73    0.8266     89.049618    2022-06-27\n",
      "1 2022-06-19    107.62    0.8153     87.742586    2022-06-20\n",
      "2 2022-06-12    109.56    0.8179     89.609124    2022-06-13\n",
      "3 2022-06-05    120.67    0.8118     97.959906    2022-06-06\n",
      "4 2022-05-29    118.87    0.8005     95.155435    2022-05-30\n"
     ]
    }
   ],
   "source": [
    "\n",
    "ex_oil['Barrel_oil_£'] = ex_oil['Price($)'] * ex_oil['USDtoGBP'] \n",
    "ex_oil['matching_date'] = ex_oil['Date'] + pd.Timedelta(days=1)\n",
    "print(ex_oil.head())"
   ]
  },
  {
   "cell_type": "code",
   "execution_count": 12,
   "id": "256e0b0a",
   "metadata": {},
   "outputs": [
    {
     "name": "stdout",
     "output_type": "stream",
     "text": [
      "        Date  Barrel_oil_£\n",
      "0 2022-06-27     89.049618\n",
      "1 2022-06-20     87.742586\n",
      "2 2022-06-13     89.609124\n",
      "3 2022-06-06     97.959906\n",
      "4 2022-05-30     95.155435\n"
     ]
    },
    {
     "name": "stderr",
     "output_type": "stream",
     "text": [
      "/opt/anaconda3/lib/python3.8/site-packages/pandas/core/frame.py:5034: SettingWithCopyWarning: \n",
      "A value is trying to be set on a copy of a slice from a DataFrame\n",
      "\n",
      "See the caveats in the documentation: https://pandas.pydata.org/pandas-docs/stable/user_guide/indexing.html#returning-a-view-versus-a-copy\n",
      "  return super().rename(\n"
     ]
    }
   ],
   "source": [
    "barrel_oil_GBP = ex_oil[['matching_date', 'Barrel_oil_£']]\n",
    "barrel_oil_GBP.rename(columns={'matching_date':'Date'}, inplace=True)\n",
    "print(barrel_oil_GBP.head())"
   ]
  },
  {
   "cell_type": "markdown",
   "id": "cc6fdafe",
   "metadata": {},
   "source": [
    "We now have out dataset for the price of a barrel of oil in GBP, this can now be merged with /te price of petol and the price of Diesel"
   ]
  },
  {
   "cell_type": "code",
   "execution_count": 13,
   "id": "3dab64c3",
   "metadata": {},
   "outputs": [],
   "source": [
    "oil_petrol = barrel_oil_GBP.merge(petrol_to_merge, how='inner', on='Date')"
   ]
  },
  {
   "cell_type": "code",
   "execution_count": 14,
   "id": "b4ae3426",
   "metadata": {},
   "outputs": [],
   "source": [
    "oil_diesel = barrel_oil_GBP.merge(diesel_to_merge, how='inner', on='Date')"
   ]
  },
  {
   "cell_type": "code",
   "execution_count": 15,
   "id": "9acc791d",
   "metadata": {},
   "outputs": [
    {
     "name": "stdout",
     "output_type": "stream",
     "text": [
      "        Date  Barrel_oil_£  Petrol(pence/litre)  Petrol Dutyrate  petrol vat\n",
      "0 2022-06-27     89.049618               190.93            52.95        20.0\n",
      "1 2022-06-20     87.742586               186.85            52.95        20.0\n",
      "2 2022-06-13     89.609124               182.53            52.95        20.0\n",
      "3 2022-06-06     97.959906               174.99            52.95        20.0\n",
      "4 2022-05-30     95.155435               170.36            52.95        20.0\n",
      "<class 'pandas.core.frame.DataFrame'>\n",
      "Int64Index: 989 entries, 0 to 988\n",
      "Data columns (total 5 columns):\n",
      " #   Column               Non-Null Count  Dtype         \n",
      "---  ------               --------------  -----         \n",
      " 0   Date                 989 non-null    datetime64[ns]\n",
      " 1   Barrel_oil_£         989 non-null    float64       \n",
      " 2   Petrol(pence/litre)  989 non-null    float64       \n",
      " 3   Petrol Dutyrate      989 non-null    float64       \n",
      " 4   petrol vat           989 non-null    float64       \n",
      "dtypes: datetime64[ns](1), float64(4)\n",
      "memory usage: 46.4 KB\n",
      "None\n"
     ]
    }
   ],
   "source": [
    "print(oil_petrol.head())\n",
    "print(oil_petrol.info())"
   ]
  },
  {
   "cell_type": "code",
   "execution_count": 16,
   "id": "7765f61d",
   "metadata": {},
   "outputs": [
    {
     "name": "stdout",
     "output_type": "stream",
     "text": [
      "        Date  Barrel_oil_£  Diesel(pence/litre)  Diesel dutyrate  diesel vat\n",
      "0 2022-06-27     89.049618               198.93            52.95        20.0\n",
      "1 2022-06-20     87.742586               194.87            52.95        20.0\n",
      "2 2022-06-13     89.609124               190.43            52.95        20.0\n",
      "3 2022-06-06     97.959906               184.94            52.95        20.0\n",
      "4 2022-05-30     95.155435               182.25            52.95        20.0\n",
      "<class 'pandas.core.frame.DataFrame'>\n",
      "Int64Index: 989 entries, 0 to 988\n",
      "Data columns (total 5 columns):\n",
      " #   Column               Non-Null Count  Dtype         \n",
      "---  ------               --------------  -----         \n",
      " 0   Date                 989 non-null    datetime64[ns]\n",
      " 1   Barrel_oil_£         989 non-null    float64       \n",
      " 2   Diesel(pence/litre)  989 non-null    float64       \n",
      " 3   Diesel dutyrate      989 non-null    float64       \n",
      " 4   diesel vat           989 non-null    float64       \n",
      "dtypes: datetime64[ns](1), float64(4)\n",
      "memory usage: 46.4 KB\n",
      "None\n"
     ]
    }
   ],
   "source": [
    "print(oil_diesel.head())\n",
    "print(oil_diesel.info())"
   ]
  },
  {
   "cell_type": "code",
   "execution_count": 17,
   "id": "70651bb8",
   "metadata": {},
   "outputs": [],
   "source": [
    "oil_petrol.to_csv('cleaned_datasets/petrol_oilbarrel_prices.csv', index=False)\n",
    "oil_diesel.to_csv('cleaned_datasets/diesel_oilbarrel_prices.csv', index=False)"
   ]
  },
  {
   "cell_type": "code",
   "execution_count": 18,
   "id": "90bdabfa",
   "metadata": {},
   "outputs": [],
   "source": [
    "\n",
    "\n",
    "barrel_oil_GBP.to_csv('cleaned_datasets/oil_price.csv', index=False)"
   ]
  },
  {
   "cell_type": "code",
   "execution_count": null,
   "id": "e259998b",
   "metadata": {},
   "outputs": [],
   "source": []
  },
  {
   "cell_type": "code",
   "execution_count": null,
   "id": "c1fe6bb1",
   "metadata": {},
   "outputs": [],
   "source": []
  }
 ],
 "metadata": {
  "kernelspec": {
   "display_name": "Python 3 (ipykernel)",
   "language": "python",
   "name": "python3"
  },
  "language_info": {
   "codemirror_mode": {
    "name": "ipython",
    "version": 3
   },
   "file_extension": ".py",
   "mimetype": "text/x-python",
   "name": "python",
   "nbconvert_exporter": "python",
   "pygments_lexer": "ipython3",
   "version": "3.8.11"
  }
 },
 "nbformat": 4,
 "nbformat_minor": 5
}
